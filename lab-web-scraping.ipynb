{
 "cells": [
  {
   "cell_type": "markdown",
   "id": "7e7a1ab8-2599-417d-9a65-25ef07f3a786",
   "metadata": {
    "id": "7e7a1ab8-2599-417d-9a65-25ef07f3a786"
   },
   "source": [
    "# Lab | Web Scraping"
   ]
  },
  {
   "cell_type": "markdown",
   "id": "ce8882fc-4815-4567-92fa-b4816358ba7d",
   "metadata": {
    "id": "ce8882fc-4815-4567-92fa-b4816358ba7d"
   },
   "source": [
    "Welcome to the \"Books to Scrape\" Web Scraping Adventure Lab!\n",
    "\n",
    "**Objective**\n",
    "\n",
    "In this lab, we will embark on a mission to unearth valuable insights from the data available on Books to Scrape, an online platform showcasing a wide variety of books. As data analyst, you have been tasked with scraping a specific subset of book data from Books to Scrape to assist publishing companies in understanding the landscape of highly-rated books across different genres. Your insights will help shape future book marketing strategies and publishing decisions.\n",
    "\n",
    "**Background**\n",
    "\n",
    "In a world where data has become the new currency, businesses are leveraging big data to make informed decisions that drive success and profitability. The publishing industry, much like others, utilizes data analytics to understand market trends, reader preferences, and the performance of books based on factors such as genre, author, and ratings. Books to Scrape serves as a rich source of such data, offering detailed information about a diverse range of books, making it an ideal platform for extracting insights to aid in informed decision-making within the literary world.\n",
    "\n",
    "**Task**\n",
    "\n",
    "Your task is to create a Python script using BeautifulSoup and pandas to scrape Books to Scrape book data, focusing on book ratings and genres. The script should be able to filter books with ratings above a certain threshold and in specific genres. Additionally, the script should structure the scraped data in a tabular format using pandas for further analysis.\n",
    "\n",
    "**Expected Outcome**\n",
    "\n",
    "A function named `scrape_books` that takes two parameters: `min_rating` and `max_price`. The function should scrape book data from the \"Books to Scrape\" website and return a `pandas` DataFrame with the following columns:\n",
    "\n",
    "**Expected Outcome**\n",
    "\n",
    "- A function named `scrape_books` that takes two parameters: `min_rating` and `max_price`.\n",
    "- The function should return a DataFrame with the following columns:\n",
    "  - **UPC**: The Universal Product Code (UPC) of the book.\n",
    "  - **Title**: The title of the book.\n",
    "  - **Price (£)**: The price of the book in pounds.\n",
    "  - **Rating**: The rating of the book (1-5 stars).\n",
    "  - **Genre**: The genre of the book.\n",
    "  - **Availability**: Whether the book is in stock or not.\n",
    "  - **Description**: A brief description or product description of the book (if available).\n",
    "  \n",
    "You will execute this script to scrape data for books with a minimum rating of `4.0 and above` and a maximum price of `£20`. \n",
    "\n",
    "Remember to experiment with different ratings and prices to ensure your code is versatile and can handle various searches effectively!\n",
    "\n",
    "**Resources**\n",
    "\n",
    "- [Beautiful Soup Documentation](https://www.crummy.com/software/BeautifulSoup/bs4/doc/)\n",
    "- [Pandas Documentation](https://pandas.pydata.org/pandas-docs/stable/index.html)\n",
    "- [Books to Scrape](https://books.toscrape.com/)\n"
   ]
  },
  {
   "cell_type": "markdown",
   "id": "3519921d-5890-445b-9a33-934ed8ee378c",
   "metadata": {
    "id": "3519921d-5890-445b-9a33-934ed8ee378c"
   },
   "source": [
    "**Hint**\n",
    "\n",
    "Your first mission is to familiarize yourself with the **Books to Scrape** website. Navigate to [Books to Scrape](http://books.toscrape.com/) and explore the available books to understand their layout and structure. \n",
    "\n",
    "Next, think about how you can set parameters for your data extraction:\n",
    "\n",
    "- **Minimum Rating**: Focus on books with a rating of 4.0 and above.\n",
    "- **Maximum Price**: Filter for books priced up to £20.\n",
    "\n",
    "After reviewing the site, you can construct a plan for scraping relevant data. Pay attention to the details displayed for each book, including the title, price, rating, and availability. This will help you identify the correct HTML elements to target with your scraping script.\n",
    "\n",
    "Make sure to build your scraping URL and logic based on the patterns you observe in the HTML structure of the book listings!"
   ]
  },
  {
   "cell_type": "markdown",
   "id": "25a83a0d-a742-49f6-985e-e27887cbf922",
   "metadata": {
    "id": "25a83a0d-a742-49f6-985e-e27887cbf922"
   },
   "source": [
    "\n",
    "---\n",
    "\n",
    "**Best of luck! Immerse yourself in the world of books, and may the data be with you!**"
   ]
  },
  {
   "cell_type": "markdown",
   "id": "7b75cf0d-9afa-4eec-a9e2-befeac68b2a0",
   "metadata": {
    "id": "7b75cf0d-9afa-4eec-a9e2-befeac68b2a0"
   },
   "source": [
    "**Important Note**:\n",
    "\n",
    "In the fast-changing online world, websites often update and change their structures. When you try this lab, the **Books to Scrape** website might differ from what you expect.\n",
    "\n",
    "If you encounter issues due to these changes, like new rules or obstacles preventing data extraction, don’t worry! Get creative.\n",
    "\n",
    "You can choose another website that interests you and is suitable for scraping data. Options like Wikipedia, The New York Times, or even library databases are great alternatives. The main goal remains the same: extract useful data and enhance your web scraping skills while exploring a source of information you enjoy. This is your opportunity to practice and adapt to different web environments!"
   ]
  },
  {
   "cell_type": "code",
   "execution_count": 839,
   "id": "40359eee-9cd7-4884-bfa4-83344c222305",
   "metadata": {
    "id": "40359eee-9cd7-4884-bfa4-83344c222305"
   },
   "outputs": [
    {
     "name": "stdout",
     "output_type": "stream",
     "text": [
      "UPC\n"
     ]
    },
    {
     "name": "stderr",
     "output_type": "stream",
     "text": [
      "C:\\Users\\Marie-Laure\\AppData\\Local\\Temp\\ipykernel_4088\\3821346449.py:44: DeprecationWarning: The 'text' argument to find()-type methods is deprecated. Use 'string' instead.\n",
      "  upc = book_soup.find_all(\"th\", text=\"UPC\")[0].get_text()\n"
     ]
    }
   ],
   "source": [
    "import requests\n",
    "from bs4 import BeautifulSoup\n",
    "import pandas as pd\n",
    "\n",
    "url = \"https://books.toscrape.com/\"\n",
    "response = requests.get(url)\n",
    "\n",
    "soup = BeautifulSoup(response.content)\n",
    "\n",
    "#all on one book\n",
    "books = soup.find_all(\"li\",attrs={\"class\":\"col-xs-6 col-sm-4 col-md-3 col-lg-3\"})\n",
    "#print(books_page)\n",
    "\n",
    "'''\n",
    "book_link = books[0].find(\"a\")[\"href\"]  # Lien relatif vers la page du livre\n",
    "\n",
    "# Construire le lien absolu vers la page du livre\n",
    "book_url = url + book_link.replace(\"../\", \"\")\n",
    "book_response = requests.get(book_url)\n",
    "book_soup = BeautifulSoup(book_response.content, \"html.parser\")\n",
    "\n",
    "#print(book_soup)\n",
    "\n",
    "#upc = book_soup.find_all(\"th\", text=\"UPC\")[0].get_text()\n",
    "'''\n",
    "\n",
    "'''\n",
    "UPC: The Universal Product Code (UPC) of the book.\n",
    "Title: The title of the book.\n",
    "Price (£): The price of the book in pounds.\n",
    "Rating: The rating of the book (1-5 stars).\n",
    "Genre: The genre of the book\n",
    "Availability: Whether the book is in stock or not.\n",
    "Description: A brief description or product description of the book (if available).\n",
    "'''\n",
    "\n",
    "link = books[0].find(\"a\")[\"href\"]\n",
    "book_url = url + link.replace(\"../\", \"\")\n",
    "book_response = requests.get(book_url)\n",
    "book_soup = BeautifulSoup(book_response.content, \"html.parser\")\n",
    "\n",
    "book_des = book_soup.find_all(\"div\",attrs={\"class\":\"page_inner\"})\n",
    "\n",
    "upc = book_soup.find_all(\"th\", text=\"UPC\")[0].get_text()\n",
    "print(upc)\n",
    "\n",
    "book_dict ={}\n",
    "key = 0\n",
    "for book in books:\n",
    "    title = book.find_all(\"h3\")[0].get_text()\n",
    "    price = book.find_all(\"p\",attrs={\"class\":\"price_color\"})[0].get_text()[:7].strip().replace('£',' ')\n",
    "    rating = book.find_all(\"p\")[0]\n",
    "    rating_class = \" \".join(rating.get(\"class\"))\n",
    "    available = book.find_all(\"p\",attrs={\"class\":\"instock availability\"})[0].get_text().strip()\n",
    "\n",
    "    if rating_class == 'star-rating One':\n",
    "        rating_class = '*'\n",
    "    elif rating_class == 'star-rating Two':\n",
    "        rating_class = '**'\n",
    "    elif rating_class == 'star-rating Three':\n",
    "        rating_class = '***'\n",
    "    elif rating_class == 'star-rating Four':\n",
    "        rating_class = '****'\n",
    "    elif rating_class == 'star-rating Five':\n",
    "        rating_class = '*****'\n",
    "    \n",
    "    book_dict[key] = {\"Title\":title,\n",
    "                 \"Price\":price,\n",
    "                 \"Rating\":rating_class,\n",
    "                 \"Available\":available}\n",
    "    key+=1\n",
    "\n",
    "\n",
    "df = pd.DataFrame.from_dict(book_dict, orient='index')\n",
    "\n",
    "# Convertir Price en float\n",
    "df['Price'] = df['Price'].str.replace('£', '').astype(float)\n",
    "df = df[df['Price'] > 20]\n",
    "\n",
    "df = df[(df['Rating'] == '****') | (df['Rating'] == '*****')]\n",
    "\n",
    "\n",
    "#display(df.head(20))\n",
    "\n"
   ]
  }
 ],
 "metadata": {
  "colab": {
   "provenance": []
  },
  "kernelspec": {
   "display_name": "Python 3 (ipykernel)",
   "language": "python",
   "name": "python3"
  },
  "language_info": {
   "codemirror_mode": {
    "name": "ipython",
    "version": 3
   },
   "file_extension": ".py",
   "mimetype": "text/x-python",
   "name": "python",
   "nbconvert_exporter": "python",
   "pygments_lexer": "ipython3",
   "version": "3.12.7"
  }
 },
 "nbformat": 4,
 "nbformat_minor": 5
}
